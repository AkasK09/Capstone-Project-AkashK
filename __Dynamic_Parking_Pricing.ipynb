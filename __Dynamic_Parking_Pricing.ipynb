{
 "cells": [
  {
   "cell_type": "markdown",
   "id": "84d710a9",
   "metadata": {},
   "source": [
    "\ud83d\ude97 **Dynamic Parking Pricing System - Final Notebook**"
   ]
  },
  {
   "cell_type": "code",
   "source": [
    "!pip install pathway bokeh --quiet # This cell may take a few seconds to execute."
   ],
   "metadata": {},
   "id": "M6K-kKn-MqbZ",
   "outputs": [],
   "execution_count": null
  },
  {
   "cell_type": "code",
   "id": "a89593a2",
   "metadata": {},
   "source": [
    "# \ud83d\udce6 Imports\n",
    "import pandas as pd\n",
    "import numpy as np\n",
    "import pathway as pw\n",
    "import datetime\n",
    "import bokeh.plotting\n",
    "from bokeh.io import output_file, save\n",
    "from google.colab import files\n",
    "import json"
   ],
   "outputs": [],
   "execution_count": null
  },
  {
   "cell_type": "code",
   "id": "8f453e13",
   "metadata": {},
   "source": [
    "# \ud83d\udcca Step 1: Load and preprocess data\n",
    "df = pd.read_csv(\"/content/dataset.csv\")\n",
    "df['Timestamp'] = pd.to_datetime(df['LastUpdatedDate'] + ' ' + df['LastUpdatedTime'], format='%d-%m-%Y %H:%M:%S')\n",
    "df = df.sort_values('Timestamp').reset_index(drop=True)\n",
    "df = df.head(300)  # LIMIT TO 300 ROWS FOR SPEED\n",
    "df[['Timestamp', 'Occupancy', 'Capacity']].to_csv(\"parking_stream.csv\", index=False)"
   ],
   "outputs": [],
   "execution_count": null
  },
  {
   "cell_type": "code",
   "id": "89df987c",
   "metadata": {},
   "source": [
    "# \ud83e\uddf1 Step 2: Define schema\n",
    "class ParkingSchema(pw.Schema):\n",
    "    Timestamp: str\n",
    "    Occupancy: int\n",
    "    Capacity: int"
   ],
   "outputs": [],
   "execution_count": null
  },
  {
   "cell_type": "code",
   "id": "af8ca71d",
   "metadata": {},
   "source": [
    "# \u23f1\ufe0f Step 3: Read CSV in STATIC mode\n",
    "source = pw.io.csv.read(\"parking_stream.csv\", schema=ParkingSchema, mode=\"static\")"
   ],
   "outputs": [],
   "execution_count": null
  },
  {
   "cell_type": "code",
   "id": "9de6f0df",
   "metadata": {},
   "source": [
    "# \ud83d\udd52 Step 4: Format timestamp\n",
    "date_format = \"%Y-%m-%d %H:%M:%S\"\n",
    "data_with_time = source.with_columns(\n",
    "    t=source.Timestamp.dt.strptime(date_format),\n",
    "    day=source.Timestamp.dt.strptime(date_format).dt.strftime(\"%Y-%m-%dT00:00:00\")\n",
    ")"
   ],
   "outputs": [],
   "execution_count": null
  },
  {
   "cell_type": "code",
   "id": "0ab354a0",
   "metadata": {},
   "source": [
    "# \ud83e\udde0 Step 5: Define demand function and models\n",
    "vehicle_weights = {\"car\": 1.0, \"bike\": 0.5, \"truck\": 1.5, \"cycle\": 0.3}\n",
    "traffic_weights = {\"low\": 0.5, \"average\": 1.0, \"high\": 1.5}\n",
    "\n",
    "def compute_demand(occ, cap):\n",
    "    occ_rate = occ / cap if cap != 0 else 0\n",
    "    return (\n",
    "        1.2 * occ_rate +\n",
    "        0.8 * 3 -\n",
    "        0.5 * traffic_weights[\"low\"] +\n",
    "        0.9 * 0 +\n",
    "        0.7 * vehicle_weights[\"car\"]\n",
    "    )\n",
    "\n",
    "def compute_price(demand):\n",
    "    norm_demand = demand / 10\n",
    "    return max(5, min(20, 10 * (1 + 0.5 * norm_demand)))\n",
    "\n",
    "def build_model_1(data):\n",
    "    return (\n",
    "        data.windowby(\n",
    "            pw.this.t,\n",
    "            instance=pw.this.day,\n",
    "            window=pw.temporal.tumbling(datetime.timedelta(days=1)),\n",
    "            behavior=pw.temporal.exactly_once_behavior()\n",
    "        )\n",
    "        .reduce(\n",
    "            t=pw.this._pw_window_end,\n",
    "            occ_max=pw.reducers.max(pw.this.Occupancy),\n",
    "            cap=pw.reducers.max(pw.this.Capacity)\n",
    "        )\n",
    "        .with_columns(\n",
    "            unclamped_price=(10 + 5 * (pw.this.occ_max / pw.this.cap))\n",
    "        )\n",
    "        .with_columns(\n",
    "            price=pw.apply(lambda p: max(5, min(20, p)), pw.this.unclamped_price)\n",
    "        )\n",
    "    )\n",
    "\n",
    "def build_model_2(data):\n",
    "    return (\n",
    "        data.windowby(\n",
    "            pw.this.t,\n",
    "            instance=pw.this.day,\n",
    "            window=pw.temporal.tumbling(datetime.timedelta(days=1)),\n",
    "            behavior=pw.temporal.exactly_once_behavior()\n",
    "        )\n",
    "        .reduce(\n",
    "            t=pw.this._pw_window_end,\n",
    "            occ_max=pw.reducers.max(pw.this.Occupancy),\n",
    "            cap=pw.reducers.max(pw.this.Capacity)\n",
    "        )\n",
    "        .with_columns(\n",
    "            demand=pw.apply(compute_demand, pw.this.occ_max, pw.this.cap)\n",
    "        )\n",
    "        .with_columns(\n",
    "            price=pw.apply(compute_price, pw.this.demand)\n",
    "        )\n",
    "    )\n",
    "\n",
    "\n",
    "def build_model_3(data):\n",
    "    return (\n",
    "        data.windowby(\n",
    "            pw.this.t,\n",
    "            instance=pw.this.day,\n",
    "            window=pw.temporal.tumbling(datetime.timedelta(days=1)),\n",
    "            behavior=pw.temporal.exactly_once_behavior()\n",
    "        )\n",
    "        .reduce(\n",
    "            t=pw.this._pw_window_end,\n",
    "            occ_max=pw.reducers.max(pw.this.Occupancy),\n",
    "            cap=pw.reducers.max(pw.this.Capacity)\n",
    "        )\n",
    "        .with_columns(\n",
    "            price=pw.this.occ_max / pw.this.cap * 10\n",
    "        )\n",
    "    )"
   ],
   "outputs": [],
   "execution_count": null
  },
  {
   "cell_type": "code",
   "id": "d1518810",
   "metadata": {},
   "source": [
    "# \ud83d\ude80 Step 6: Run and export all models\n",
    "model1 = build_model_1(data_with_time)\n",
    "model2 = build_model_2(data_with_time)\n",
    "model3 = build_model_3(data_with_time)\n",
    "\n",
    "writer1 = pw.io.jsonlines.write(model1, \"model1.jsonl\")\n",
    "writer2 = pw.io.jsonlines.write(model2, \"model2.jsonl\")\n",
    "writer3 = pw.io.jsonlines.write(model3, \"model3.jsonl\")\n",
    "\n",
    "pw.run()\n",
    "writer1.wait()\n",
    "writer2.wait()\n",
    "writer3.wait()"
   ],
   "outputs": [],
   "execution_count": null
  },
  {
   "cell_type": "code",
   "id": "2555c125",
   "metadata": {},
   "source": [
    "# \ud83d\udcc8 Step 7: Load and visualize models\n",
    "model_dfs = {}\n",
    "for i in [1, 2, 3]:\n",
    "    with open(f\"model{i}.jsonl\") as f:\n",
    "        lines = [json.loads(line) for line in f]\n",
    "    df = pd.DataFrame(lines)\n",
    "    timestamp_col = [col for col in df.columns if col.startswith(\"t\")][0]\n",
    "    df[timestamp_col] = pd.to_datetime(df[timestamp_col])\n",
    "    df = df.sort_values(timestamp_col)\n",
    "    model_dfs[i] = (df, timestamp_col)\n",
    "\n",
    "output_file(\"bokeh_output.html\")\n",
    "fig = bokeh.plotting.figure(\n",
    "    height=400,\n",
    "    width=800,\n",
    "    title=\"Compare Parking Prices: Model 1 (Green), 2 (Blue), 3 (Red)\",\n",
    "    x_axis_type=\"datetime\"\n",
    ")\n",
    "colors = {1: \"green\", 2: \"blue\", 3: \"red\"}\n",
    "for i in [1, 2, 3]:\n",
    "    df, t_col = model_dfs[i]\n",
    "    fig.line(df[t_col], df[\"price\"], line_width=2, color=colors[i], legend_label=f\"Model {i}\")\n",
    "    fig.circle(df[t_col], df[\"price\"], size=5, color=colors[i])\n",
    "\n",
    "fig.legend.location = \"top_left\"\n",
    "save(fig)"
   ],
   "outputs": [],
   "execution_count": null
  },
  {
   "cell_type": "code",
   "id": "ff61ddb1",
   "metadata": {},
   "source": [
    "# \ud83d\udcbe Step 8: Download the final chart\n",
    "files.download(\"bokeh_output.html\")"
   ],
   "outputs": [],
   "execution_count": null
  },
  {
   "cell_type": "code",
   "source": [],
   "metadata": {},
   "id": "OJ7UE5mjOf9T",
   "outputs": [],
   "execution_count": null
  }
 ],
 "metadata": {
  "kernelspec": {
   "display_name": "Python 3",
   "language": "python",
   "name": "python3"
  },
  "language_info": {
   "name": "python",
   "version": "3.10"
  }
 },
 "nbformat": 4,
 "nbformat_minor": 5
}